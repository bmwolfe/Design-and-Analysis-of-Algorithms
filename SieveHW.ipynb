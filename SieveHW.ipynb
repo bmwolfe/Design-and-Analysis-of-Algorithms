{
  "nbformat": 4,
  "nbformat_minor": 0,
  "metadata": {
    "colab": {
      "provenance": [],
      "authorship_tag": "ABX9TyMoZsaItTmst77tpKygcp3a",
      "include_colab_link": true
    },
    "kernelspec": {
      "name": "python3",
      "display_name": "Python 3"
    },
    "language_info": {
      "name": "python"
    }
  },
  "cells": [
    {
      "cell_type": "markdown",
      "metadata": {
        "id": "view-in-github",
        "colab_type": "text"
      },
      "source": [
        "<a href=\"https://colab.research.google.com/github/bmwolfe/Design-and-Analysis-of-Algorithms/blob/main/SieveHW.ipynb\" target=\"_parent\"><img src=\"https://colab.research.google.com/assets/colab-badge.svg\" alt=\"Open In Colab\"/></a>"
      ]
    },
    {
      "cell_type": "code",
      "execution_count": 1,
      "metadata": {
        "colab": {
          "base_uri": "https://localhost:8080/"
        },
        "id": "EUGk7_7QdB3B",
        "outputId": "b570e0f7-3650-4198-dfcd-0b48807bf542"
      },
      "outputs": [
        {
          "output_type": "stream",
          "name": "stdout",
          "text": [
            "input an integer n to find all prime numbers less than n1000\n",
            "[2, 3, 5, 7, 11, 13, 17, 19, 23, 29, 31, 37, 41, 43, 47, 53, 59, 61, 67, 71, 73, 79, 83, 89, 97, 101, 103, 107, 109, 113, 127, 131, 137, 139, 149, 151, 157, 163, 167, 173, 179, 181, 191, 193, 197, 199, 211, 223, 227, 229, 233, 239, 241, 251, 257, 263, 269, 271, 277, 281, 283, 293, 307, 311, 313, 317, 331, 337, 347, 349, 353, 359, 367, 373, 379, 383, 389, 397, 401, 409, 419, 421, 431, 433, 439, 443, 449, 457, 461, 463, 467, 479, 487, 491, 499, 503, 509, 521, 523, 541, 547, 557, 563, 569, 571, 577, 587, 593, 599, 601, 607, 613, 617, 619, 631, 641, 643, 647, 653, 659, 661, 673, 677, 683, 691, 701, 709, 719, 727, 733, 739, 743, 751, 757, 761, 769, 773, 787, 797, 809, 811, 821, 823, 827, 829, 839, 853, 857, 859, 863, 877, 881, 883, 887, 907, 911, 919, 929, 937, 941, 947, 953, 967, 971, 977, 983, 991, 997]\n",
            "76127\n"
          ]
        }
      ],
      "source": [
        "def sieve_alg(n):\n",
        "    allnums = [True] * (n + 1)\n",
        "    allnums[0] = False\n",
        "    allnums[1] = False\n",
        "\n",
        "\n",
        "    for i in range(2, n+1):\n",
        "        if allnums[i] == True:\n",
        "            for l in range(i*i, n+1, i):\n",
        "                allnums[l] = False\n",
        "\n",
        "    x = 1\n",
        "    while x <= 2:\n",
        "        if x == 1:\n",
        "            primes = [num for num, is_prime in enumerate(allnums) if is_prime]\n",
        "            print(primes)\n",
        "            x = 2\n",
        "        else:\n",
        "            prime_sum = sum(primes)\n",
        "            print(prime_sum)\n",
        "            x = 3\n",
        "\n",
        "n = int(input(\"input an integer n to find all prime numbers less than n\"))\n",
        "sieve_alg(n)\n"
      ]
    }
  ]
}